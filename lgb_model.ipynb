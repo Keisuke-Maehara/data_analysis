{
 "cells": [
  {
   "cell_type": "code",
   "execution_count": 1,
   "metadata": {},
   "outputs": [],
   "source": [
    "import warnings\n",
    "warnings.filterwarnings('ignore')\n",
    "import pandas as pd\n",
    "from random import shuffle\n",
    "from sklearn.model_selection import StratifiedKFold\n",
    "import numpy as np\n",
    "import lightgbm as lgb\n",
    "from sklearn.metrics import roc_auc_score\n",
    "import os\n",
    "import pickle\n",
    "import gc"
   ]
  },
  {
   "cell_type": "markdown",
   "metadata": {},
   "source": [
    "以下、モデルの学習と評価のための操作を関数化しておく"
   ]
  },
  {
   "cell_type": "code",
   "execution_count": 2,
   "metadata": {},
   "outputs": [],
   "source": [
    "params = {\n",
    "    'boosting_type': 'gbdt', 'objective': 'binary',\n",
    "    'metric': 'auc', 'learning_rate': 0.02,\n",
    "    'num_leaves': 16, 'n_estimators': 100000,\n",
    "    'random_state': 123, 'importance_type': 'gain'\n",
    "}"
   ]
  },
  {
   "cell_type": "code",
   "execution_count": 6,
   "metadata": {},
   "outputs": [],
   "source": [
    "def train_cv(x_train, y_train, id_train, params, list_nfold=[0,1,2,3,4] ,n_splits=5):\n",
    "    metrics = []\n",
    "    imp = pd.DataFrame()\n",
    "    \n",
    "    cv = list(StratifiedKFold(n_splits, shuffle=True, random_state=123).split(x_train, y_train))\n",
    "    for nfold in np.arange(n_splits):\n",
    "        print('-'*20, nfold, '-'*20)\n",
    "    \n",
    "        idx_tr, idx_va = cv[nfold][0], cv[nfold][1]\n",
    "        x_tr, y_tr = x_train.loc[idx_tr, :], y_train.loc[idx_tr, :]\n",
    "        x_va, y_va = x_train.loc[idx_va, :], y_train.loc[idx_va, :]\n",
    "    \n",
    "        print('x_tr.shape:{}, y_tr.shape:{} '.format(x_tr.shape, y_tr.shape))\n",
    "        print('x_va.shape:{}, y_va.shape:{} '.format(x_va.shape, y_va.shape))\n",
    "        print('y_train:{:.3f}, y_tr:{:.3f}, y_va:{:.3f} '.format(\n",
    "            y_train['y'].mean(), y_tr['y'].mean(), y_va['y'].mean()\n",
    "            ))\n",
    "    # train\n",
    "        model = lgb.LGBMClassifier(**params)\n",
    "        model.fit(x_tr, y_tr, eval_set=[(x_tr, y_tr), (x_va, y_va)], early_stopping_rounds=100, verbose=100)\n",
    "        fname_lgb = 'model_lgb_fold{}.pickle'.format(nfold)\n",
    "        with open(fname_lgb, 'wb') as f:\n",
    "            pickle.dump(model, f, protocol=4)\n",
    "        \n",
    "    # evaluate\n",
    "        y_tr_pred = model.predict_proba(x_tr)[:, 1]\n",
    "        y_va_pred = model.predict_proba(x_va)[:, 1]\n",
    "    \n",
    "        metric_tr = roc_auc_score(y_tr, y_tr_pred)\n",
    "        metric_va = roc_auc_score(y_va, y_va_pred)\n",
    "        print('[auc] tr:{:.4f}, va:{:.4f} '.format(metric_tr, metric_va))\n",
    "        metrics.append([nfold, metric_tr, metric_va])\n",
    "\n",
    "        _imp = pd.DataFrame({'col': x_train.columns, 'imp': model.feature_importances_, 'nfold': nfold})\n",
    "        imp = pd.concat([imp, _imp], axis=0, ignore_index=True)\n",
    "#以上がfor文\n",
    "    print('-'*20, 'result', '-'*20)\n",
    "    metrics = np.array(metrics)\n",
    "    print(metrics)\n",
    "    print('[cv] tr:{:.2f}+-{:.2f}, va:{:.2}+-{:.2f} '.format(\n",
    "    metrics[:, 1].mean(), metrics[:,1].std(), metrics[:, 2].mean(), metrics[:, 2].std()))\n",
    "\n",
    "    imp = imp.groupby('col')['imp_mean'].agg(['mean', 'std'])\n",
    "    imp.columns = ['imp_mean', 'imp_std']\n",
    "    imp = imp.reset_index(drop=False)\n",
    "    \n",
    "    return imp, metrics"
   ]
  },
  {
   "cell_type": "markdown",
   "metadata": {},
   "source": [
    "以下、検証のための関数"
   ]
  },
  {
   "cell_type": "code",
   "execution_count": 5,
   "metadata": {},
   "outputs": [],
   "source": [
    "#検証のための関数\n",
    "def predict_lgb(x_train, y_train, id_train, list_nfold=[0,1,2,3,4]):\n",
    "    pred = np.zeros((len(x_train), len(list_nfold)))\n",
    "    for nfold in list_nfold:\n",
    "        pritn(\"-\"*20, nfold, \"-\"*20)\n",
    "        fname_lgb = 'model_lgb_fold{}.pickle'.format(nfold)\n",
    "        with open(fname_lgb, 'rb') as f:\n",
    "            model = pickle.load(f)\n",
    "        pred[:, nfold] = model.predict_proba(x_train)[:, 1]\n",
    "\n",
    "    pred = pd.concat([x_train, id_train, pd.DataFrame({'pred': pred.mean(axis=1)})], axis=1)\n",
    "\n",
    "    return pred"
   ]
  },
  {
   "cell_type": "code",
   "execution_count": null,
   "metadata": {},
   "outputs": [],
   "source": []
  }
 ],
 "metadata": {
  "kernelspec": {
   "display_name": "Python 3",
   "language": "python",
   "name": "python3"
  },
  "language_info": {
   "codemirror_mode": {
    "name": "ipython",
    "version": 3
   },
   "file_extension": ".py",
   "mimetype": "text/x-python",
   "name": "python",
   "nbconvert_exporter": "python",
   "pygments_lexer": "ipython3",
   "version": "3.7.7"
  }
 },
 "nbformat": 4,
 "nbformat_minor": 4
}
